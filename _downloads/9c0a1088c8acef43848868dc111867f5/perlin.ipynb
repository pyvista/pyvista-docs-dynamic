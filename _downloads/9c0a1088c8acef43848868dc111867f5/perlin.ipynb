{
  "cells": [
    {
      "cell_type": "code",
      "execution_count": null,
      "metadata": {
        "collapsed": false
      },
      "outputs": [],
      "source": [
        "%matplotlib inline\nfrom pyvista import set_plot_theme\nset_plot_theme('document')"
      ]
    },
    {
      "cell_type": "markdown",
      "metadata": {},
      "source": [
        "\n# Perlin Noise\nHere we use :func:`pyvista.core.utilities.features.sample_function` to sample\nPerlin noise over a region to generate random terrain.\n\nVideo games like Minecraft use Perlin noise to create terrain.  Here,\nwe create a voxelized mesh similar to a Minecraft \"cave\".\n"
      ]
    },
    {
      "cell_type": "code",
      "execution_count": null,
      "metadata": {
        "collapsed": false
      },
      "outputs": [],
      "source": [
        "import pyvista as pv"
      ]
    },
    {
      "cell_type": "markdown",
      "metadata": {},
      "source": [
        "# Generate Perlin Noise over a 3D StructuredGrid\nFeel free to change the values of ``freq`` to change the shape of\nthe \"caves\".  For example, lowering the frequency will make the\ncaves larger and more expansive, while a higher frequency in any\ndirection will make the caves appear more \"vein-like\" and less open.\n\nChange the threshold to reduce or increase the percent of the\nterrain that is open or closed\n\n"
      ]
    },
    {
      "cell_type": "code",
      "execution_count": null,
      "metadata": {
        "collapsed": false
      },
      "outputs": [],
      "source": [
        "freq = (1, 1, 1)\nnoise = pv.perlin_noise(1, freq, (0, 0, 0))\ngrid = pv.sample_function(noise, [0, 3.0, -0, 1.0, 0, 1.0], dim=(120, 40, 40))\nout = grid.threshold(0.02)\nout"
      ]
    },
    {
      "cell_type": "markdown",
      "metadata": {},
      "source": [
        "color limits without blue\n\n"
      ]
    },
    {
      "cell_type": "code",
      "execution_count": null,
      "metadata": {
        "collapsed": false
      },
      "outputs": [],
      "source": [
        "mn, mx = [out['scalars'].min(), out['scalars'].max()]\nclim = (mn, mx * 1.8)\n\nout.plot(\n    cmap='gist_earth_r',\n    background='white',\n    show_scalar_bar=False,\n    lighting=True,\n    clim=clim,\n    show_edges=False,\n)"
      ]
    }
  ],
  "metadata": {
    "kernelspec": {
      "display_name": "Python 3",
      "language": "python",
      "name": "python3"
    },
    "language_info": {
      "codemirror_mode": {
        "name": "ipython",
        "version": 3
      },
      "file_extension": ".py",
      "mimetype": "text/x-python",
      "name": "python",
      "nbconvert_exporter": "python",
      "pygments_lexer": "ipython3",
      "version": "3.11.7"
    }
  },
  "nbformat": 4,
  "nbformat_minor": 0
}